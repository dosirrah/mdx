{
 "cells": [
  {
   "cell_type": "markdown",
   "id": "e1b9efb0-c7ec-4ec3-a17b-69ec2a3a1455",
   "metadata": {},
   "source": [
    "# Example 1\n",
    "\n",
    "This contains no code blocks."
   ]
  }
 ],
 "metadata": {
  "kernelspec": {
   "display_name": "Python 3 (ipykernel)",
   "language": "python",
   "name": "python3"
  },
  "language_info": {
   "codemirror_mode": {
    "name": "ipython",
    "version": 3
   },
   "file_extension": ".py",
   "mimetype": "text/x-python",
   "name": "python",
   "nbconvert_exporter": "python",
   "pygments_lexer": "ipython3",
   "version": "3.11.7"
  }
 },
 "nbformat": 4,
 "nbformat_minor": 5
}
